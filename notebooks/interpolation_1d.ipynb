{
 "cells": [
  {
   "cell_type": "code",
   "execution_count": 1,
   "metadata": {},
   "outputs": [
    {
     "data": {
      "text/plain": [
       "Plots.PyPlotBackend()"
      ]
     },
     "execution_count": 1,
     "metadata": {},
     "output_type": "execute_result"
    }
   ],
   "source": [
    "using Plots\n",
    "pyplot()"
   ]
  },
  {
   "cell_type": "markdown",
   "metadata": {},
   "source": [
    "HermiteGf is a julia package, install it with\n",
    "\n",
    "```julia\n",
    "using Pkg\n",
    "Pkg.add(\"https://gitlab.mpcdf.mpg.de/clapp/HermiteGF.jl\")\n",
    "```"
   ]
  },
  {
   "cell_type": "code",
   "execution_count": 2,
   "metadata": {},
   "outputs": [
    {
     "name": "stderr",
     "output_type": "stream",
     "text": [
      "┌ Info: Recompiling stale cache file /Users/navaro/.julia/compiled/v1.0/HermiteGF/V9Jve.ji for HermiteGF [6d312152-d853-11e8-033d-978d5c49d094]\n",
      "└ @ Base loading.jl:1187\n"
     ]
    }
   ],
   "source": [
    "using HermiteGF"
   ]
  },
  {
   "cell_type": "code",
   "execution_count": 3,
   "metadata": {},
   "outputs": [],
   "source": [
    "import HermiteGF:trapz"
   ]
  },
  {
   "cell_type": "code",
   "execution_count": 4,
   "metadata": {},
   "outputs": [
    {
     "ename": "MethodError",
     "evalue": "MethodError: no method matching Hermite(::Chebyshev, ::Float64, ::Float64)\nClosest candidates are:\n  Hermite(!Matched::Array{HermiteGF.NodesType,1}, ::Real, ::Real) at /Users/navaro/.julia/packages/HermiteGF/6sCXJ/src/hermite.jl:17",
     "output_type": "error",
     "traceback": [
      "MethodError: no method matching Hermite(::Chebyshev, ::Float64, ::Float64)\nClosest candidates are:\n  Hermite(!Matched::Array{HermiteGF.NodesType,1}, ::Real, ::Real) at /Users/navaro/.julia/packages/HermiteGF/6sCXJ/src/hermite.jl:17",
      "",
      "Stacktrace:",
      " [1] top-level scope at In[4]:3"
     ]
    }
   ],
   "source": [
    "xmin, xmax, nx = -1, 1, 32\n",
    "ϵ, γ = 0.1, 3.0\n",
    "interp = Hermite(Chebyshev(xmin, xmax, nx), 0.1, 3.0)    \n",
    "xk = interp.xk\n",
    "f  =  cos.(xk.^2)\n",
    "xe = collect(range(xmin, stop=xmax, length=nx))\n",
    "dx = xe[2]-xe[1]\n",
    "fe = cos.(xe.^2)\n",
    "s  = interpolate( interp, f, xe )\n",
    "sqrt(trapz((s - fe).^2, dx)), maximum(abs.(s .- fe))"
   ]
  },
  {
   "cell_type": "code",
   "execution_count": 5,
   "metadata": {},
   "outputs": [
    {
     "data": {
      "text/plain": [
       "8-element Array{Float64,1}:\n",
       " 0.5403023058681398\n",
       " 0.8726448614622705\n",
       " 0.9831793964382022\n",
       " 0.9997917606637399\n",
       " 0.9997917606637399\n",
       " 0.9831793964382022\n",
       " 0.8726448614622705\n",
       " 0.5403023058681398"
      ]
     },
     "execution_count": 5,
     "metadata": {},
     "output_type": "execute_result"
    }
   ],
   "source": [
    "xmin, xmax, nx = -1, 1, 8\n",
    "xe = collect(range(xmin, stop=xmax, length=nx))\n",
    "fe = cos.(xe.^2)"
   ]
  },
  {
   "cell_type": "code",
   "execution_count": 6,
   "metadata": {},
   "outputs": [
    {
     "ename": "MethodError",
     "evalue": "MethodError: no method matching Hermite(::Chebyshev, ::Float64, ::Int64)",
     "output_type": "error",
     "traceback": [
      "MethodError: no method matching Hermite(::Chebyshev, ::Float64, ::Int64)",
      "",
      "Stacktrace:",
      " [1] top-level scope at In[6]:1"
     ]
    }
   ],
   "source": [
    "hermite_chebyshev = Hermite(Chebyshev(xmin, xmax, nx), 0.1, 3)\n",
    "xk = hermite_chebyshev.xk\n",
    "f  =  cos.(xk.^2)\n",
    "scatter(xe, interpolate( hermite_chebyshev, f, xe ); \n",
    "    label = \"chebyshev\")\n",
    "plot!(xe, fe; label=\"f\", title=\"Hermite-Chebyshev\")"
   ]
  },
  {
   "cell_type": "code",
   "execution_count": 7,
   "metadata": {},
   "outputs": [
    {
     "ename": "MethodError",
     "evalue": "MethodError: no method matching Hermite(::Uniform, ::Float64, ::Int64)",
     "output_type": "error",
     "traceback": [
      "MethodError: no method matching Hermite(::Uniform, ::Float64, ::Int64)",
      "",
      "Stacktrace:",
      " [1] top-level scope at In[7]:1"
     ]
    }
   ],
   "source": [
    "hermite_uniform  = Hermite(Uniform( xmin, xmax, nx), 0.1, 3)\n",
    "xk = hermite_uniform.xk\n",
    "f  =  cos.(xk.^2)\n",
    "scatter!(xe, interpolate( hermite_uniform, f, xe ); \n",
    "    label=\"uniform\")\n",
    "plot!(xe, fe; label=\"f\", title=\"Hermite-Uniform\")"
   ]
  },
  {
   "cell_type": "code",
   "execution_count": null,
   "metadata": {},
   "outputs": [],
   "source": []
  }
 ],
 "metadata": {
  "kernelspec": {
   "display_name": "Julia 1.0.1",
   "language": "julia",
   "name": "julia-1.0"
  },
  "language_info": {
   "file_extension": ".jl",
   "mimetype": "application/julia",
   "name": "julia",
   "version": "1.0.1"
  }
 },
 "nbformat": 4,
 "nbformat_minor": 2
}
