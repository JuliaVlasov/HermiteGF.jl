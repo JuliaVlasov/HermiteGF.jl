{
 "cells": [
  {
   "cell_type": "code",
   "execution_count": 34,
   "metadata": {},
   "outputs": [
    {
     "data": {
      "text/plain": [
       "Plots.PyPlotBackend()"
      ]
     },
     "execution_count": 34,
     "metadata": {},
     "output_type": "execute_result"
    }
   ],
   "source": [
    "using Plots\n",
    "pyplot()"
   ]
  },
  {
   "cell_type": "markdown",
   "metadata": {},
   "source": [
    "HermiteGf is a julia package, install it with\n",
    "\n",
    "```julia\n",
    "using Pkg\n",
    "Pkg.add(\"https://gitlab.mpcdf.mpg.de/clapp/HermiteGF.jl\")\n",
    "```"
   ]
  },
  {
   "cell_type": "code",
   "execution_count": 35,
   "metadata": {},
   "outputs": [],
   "source": [
    "using HermiteGF"
   ]
  },
  {
   "cell_type": "code",
   "execution_count": 36,
   "metadata": {},
   "outputs": [
    {
     "data": {
      "text/plain": [
       "NodesType"
      ]
     },
     "execution_count": 36,
     "metadata": {},
     "output_type": "execute_result"
    }
   ],
   "source": [
    "\" Node positions (Uniform or Chebyshev) \"\n",
    "abstract type NodesType end"
   ]
  },
  {
   "cell_type": "code",
   "execution_count": 37,
   "metadata": {},
   "outputs": [],
   "source": [
    "import HermiteGF:generate_chebyshev_nodes"
   ]
  },
  {
   "cell_type": "code",
   "execution_count": 38,
   "metadata": {},
   "outputs": [
    {
     "data": {
      "text/plain": [
       "Chebyshev"
      ]
     },
     "execution_count": 38,
     "metadata": {},
     "output_type": "execute_result"
    }
   ],
   "source": [
    "\"\"\"\n",
    "    Chebyshev( nx, xmin, xmax )\n",
    "\n",
    "Chebyshev nodes\n",
    "\n",
    "\"\"\"\n",
    "struct Chebyshev <: NodesType\n",
    "\n",
    "    nx    :: Int64\n",
    "    xmin  :: Float64\n",
    "    xmax  :: Float64\n",
    "    xk    :: Vector{Float64}\n",
    "\n",
    "    function Chebyshev( nx, xmin, xmax )\n",
    "\n",
    "        xk  = zeros(Float64, nx)\n",
    "        xk .= generate_chebyshev_nodes(nx, xmin, xmax)\n",
    "        new( nx, xmin, xmax, xk )\n",
    "\n",
    "    end\n",
    "\n",
    "end"
   ]
  },
  {
   "cell_type": "code",
   "execution_count": 39,
   "metadata": {},
   "outputs": [],
   "source": [
    "import HermiteGF:generate_uniform_nodes"
   ]
  },
  {
   "cell_type": "code",
   "execution_count": 40,
   "metadata": {},
   "outputs": [
    {
     "data": {
      "text/plain": [
       "Uniform"
      ]
     },
     "execution_count": 40,
     "metadata": {},
     "output_type": "execute_result"
    }
   ],
   "source": [
    "\"\"\"\n",
    "    Uniform( nx, xmin, xmax )\n",
    "\n",
    "Uniform nodes\n",
    "\n",
    "\"\"\"\n",
    "struct Uniform <: NodesType\n",
    "\n",
    "    nx    :: Int64\n",
    "    xmin  :: Float64\n",
    "    xmax  :: Float64\n",
    "    xk    :: Vector{Float64}\n",
    "\n",
    "    function Uniform( nx, xmin, xmax )\n",
    "\n",
    "        xk  = zeros(Float64, nx)\n",
    "        xk .= generate_uniform_nodes(nx, xmin, xmax)\n",
    "        new( nx, xmin, xmax, xk )\n",
    "\n",
    "    end\n",
    "\n",
    "end"
   ]
  },
  {
   "cell_type": "code",
   "execution_count": 41,
   "metadata": {},
   "outputs": [],
   "source": [
    "abstract type InterpolationType end"
   ]
  },
  {
   "cell_type": "code",
   "execution_count": 43,
   "metadata": {},
   "outputs": [
    {
     "data": {
      "text/plain": [
       "Hermite"
      ]
     },
     "execution_count": 43,
     "metadata": {},
     "output_type": "execute_result"
    }
   ],
   "source": [
    "\"\"\"\n",
    "    Hermite( nodes::NodesType, epsilon, gamma )\n",
    "\n",
    "Hermite inteprolation\n",
    "\n",
    "\"\"\"\n",
    "mutable struct Hermite <: InterpolationType\n",
    "\n",
    "    nx         :: Int64\n",
    "    epsilon    :: Float64\n",
    "    gamma      :: Float64\n",
    "    xk         :: Array{Float64,1}\n",
    "    colloc_mat :: Array{Float64,2}\n",
    "\n",
    "    function Hermite( nodes::NodesType, epsilon, gamma )\n",
    "\n",
    "        xk   = nodes.xk\n",
    "        nx   = nodes.nx\n",
    "        colloc_mat = evaluate_hermite(xk, nx, epsilon, gamma)\n",
    "        new( nx, epsilon, gamma, xk, colloc_mat )\n",
    "\n",
    "    end\n",
    "\n",
    "end"
   ]
  },
  {
   "cell_type": "code",
   "execution_count": 44,
   "metadata": {},
   "outputs": [
    {
     "data": {
      "text/plain": [
       "Hermite"
      ]
     },
     "execution_count": 44,
     "metadata": {},
     "output_type": "execute_result"
    }
   ],
   "source": [
    "\"\"\"\n",
    "    Hermite( xe )\n",
    "\n",
    "returns evaluation matrix\n",
    "\"\"\"\n",
    "function (interp::Hermite)( xe::Array{Float64,1} )\n",
    "\n",
    "   nx      = interp.nx\n",
    "   epsilon = interp.epsilon\n",
    "   gamma   = interp.gamma\n",
    "   evaluate_hermite(xe, nx, epsilon, gamma)\n",
    "\n",
    "end"
   ]
  },
  {
   "cell_type": "code",
   "execution_count": 45,
   "metadata": {},
   "outputs": [],
   "source": [
    "import HermiteGF:evaluate_radial"
   ]
  },
  {
   "cell_type": "code",
   "execution_count": 46,
   "metadata": {},
   "outputs": [
    {
     "data": {
      "text/plain": [
       "Radial"
      ]
     },
     "execution_count": 46,
     "metadata": {},
     "output_type": "execute_result"
    }
   ],
   "source": [
    "\"\"\"\n",
    "    Radial( nodes::NodesType, epsilon, gamma )\n",
    "\n",
    "Radial inteprolation\n",
    "\n",
    "\"\"\"\n",
    "mutable struct Radial <: InterpolationType\n",
    "\n",
    "    nx         :: Int64\n",
    "    epsilon    :: Float64\n",
    "    xk         :: Array{Float64,1}\n",
    "    colloc_mat :: Array{Float64,2}\n",
    "\n",
    "    function Radial( nodes::NodesType, epsilon )\n",
    "        \n",
    "        xk         = nodes.xk\n",
    "        nx         = nodes.nx\n",
    "        colloc_mat = evaluate_radial(xk, xk, nx, epsilon)\n",
    "        new( nx, epsilon, xk, colloc_mat )\n",
    "        \n",
    "    end\n",
    "\n",
    "end"
   ]
  },
  {
   "cell_type": "code",
   "execution_count": 47,
   "metadata": {},
   "outputs": [
    {
     "data": {
      "text/plain": [
       "Radial"
      ]
     },
     "execution_count": 47,
     "metadata": {},
     "output_type": "execute_result"
    }
   ],
   "source": [
    "\"\"\"\n",
    "    Radial( xe )\n",
    "\n",
    "returns evaluation matrix\n",
    "\"\"\"\n",
    "function (interp::Radial)( xe::Array{Float64,1} )\n",
    "\n",
    "    nx      = interp.nx\n",
    "    epsilon = interp.epsilon\n",
    "    xk      = interp.xk\n",
    "    evaluate_radial(xk, xe, nx, epsilon)\n",
    "\n",
    "end"
   ]
  },
  {
   "cell_type": "code",
   "execution_count": 48,
   "metadata": {},
   "outputs": [],
   "source": [
    "import HermiteGF:evaluate_s"
   ]
  },
  {
   "cell_type": "code",
   "execution_count": 49,
   "metadata": {},
   "outputs": [
    {
     "data": {
      "text/plain": [
       "interpolate (generic function with 1 method)"
      ]
     },
     "execution_count": 49,
     "metadata": {},
     "output_type": "execute_result"
    }
   ],
   "source": [
    "function interpolate(interp::InterpolationType, \n",
    "        f::Array{Float64,1}, xe::Array{Float64,1} )\n",
    "\n",
    "   ϵ  = interp.epsilon\n",
    "   nx = interp.nx\n",
    "   xk = interp.xk\n",
    "\n",
    "   # Precompute 1D interpolation matrix\n",
    "   x_all = interp(xe) / interp.colloc_mat\n",
    "\n",
    "   # Compute the interpolated values\n",
    "   evaluate_s(x_all, f)\n",
    "\n",
    "end"
   ]
  },
  {
   "cell_type": "code",
   "execution_count": 65,
   "metadata": {},
   "outputs": [],
   "source": [
    "import HermiteGF:trapz"
   ]
  },
  {
   "cell_type": "code",
   "execution_count": 73,
   "metadata": {},
   "outputs": [
    {
     "data": {
      "text/plain": [
       "test_interpolation (generic function with 1 method)"
      ]
     },
     "execution_count": 73,
     "metadata": {},
     "output_type": "execute_result"
    }
   ],
   "source": [
    "function test_interpolation(interp_t)\n",
    "    \n",
    "    xmin, xmax = -1, 1\n",
    "    nx = interp_t.nx\n",
    "    ϵ = 0.1\n",
    "    γ = 3\n",
    "    \n",
    "    xk = interp_t.xk\n",
    "    f  =  cos.(xk.^2)\n",
    "    xe = collect(range(xmin, stop=xmax, length=nx))\n",
    "    dx = xe[2]-xe[1]\n",
    "    fe = cos.(xe.^2)\n",
    "    s  = interpolate( interp_t, f, xe )\n",
    "    sqrt(trapz((s - fe).^2, dx)), maximum(abs.(s .- fe))\n",
    "    \n",
    "end"
   ]
  },
  {
   "cell_type": "code",
   "execution_count": null,
   "metadata": {},
   "outputs": [],
   "source": [
    "function evaluate_hermite(xk, N, epsilon, gamma)\n",
    "\n",
    "  # Initialize the result matrix\n",
    "  result = zeros(Int(length(xk)), N)\n",
    "\n",
    "  # Write the values of the first two Hermite functions to initialize the\n",
    "  # three-term recurrence\n",
    "  result[:,1] = exp.(-0.5.*((gamma*xk).^2))\n",
    "  result[:,2] = gamma*xk.*sqrt(2).*exp.(-0.5.*((gamma*xk).^2))\n",
    "\n",
    "  # Three term recurrence for the Hermite functions with argument gamma*x\n",
    "  for i = 3:N\n",
    "    result[:,i] = sqrt(2.0/(i-1)) .* (gamma*xk) .* result[:,i-1] - sqrt((i-2)/(i-1)) .* result[:,i-2]\n",
    "  end\n",
    "\n",
    "  # Scaling the Hermite functions with the exponential factor\n",
    "  # exp(-epsilon^2 x^2 + (gamma x)^2/2)\n",
    "  \n",
    "  for i=1:N\n",
    "      result[:,i] = (pi^(1/4)) * result[:,i] .* exp.((xk.^2) .* (gamma*gamma*0.5 - epsilon^2))\n",
    "  end\n",
    "\n",
    "  result\n",
    "\n",
    "end"
   ]
  },
  {
   "cell_type": "code",
   "execution_count": 77,
   "metadata": {},
   "outputs": [],
   "source": [
    "using BenchmarkTools"
   ]
  },
  {
   "cell_type": "code",
   "execution_count": 78,
   "metadata": {},
   "outputs": [
    {
     "name": "stdout",
     "output_type": "stream",
     "text": [
      "  43.674 μs (336 allocations: 70.30 KiB)\n"
     ]
    },
    {
     "data": {
      "text/plain": [
       "(1.2074132320908648e-9, 1.3548087096637573e-9)"
      ]
     },
     "execution_count": 78,
     "metadata": {},
     "output_type": "execute_result"
    }
   ],
   "source": [
    "@btime test_interpolation(Hermite(Chebyshev(nx, xmin, xmax), ϵ, γ))"
   ]
  },
  {
   "cell_type": "code",
   "execution_count": 75,
   "metadata": {},
   "outputs": [
    {
     "data": {
      "text/plain": [
       "(0.0015602935904354546, 0.0024105540876350195)"
      ]
     },
     "execution_count": 75,
     "metadata": {},
     "output_type": "execute_result"
    }
   ],
   "source": [
    "test_interpolation(Radial(Chebyshev(nx, xmin, xmax), ϵ))"
   ]
  },
  {
   "cell_type": "code",
   "execution_count": 76,
   "metadata": {},
   "outputs": [
    {
     "data": {
      "image/png": "[encoded data removed]"
     },
     "execution_count": 76,
     "metadata": {},
     "output_type": "execute_result"
    },
    {
     "name": "stderr",
     "output_type": "stream",
     "text": [
      "'c' argument looks like a single numeric RGB or RGBA sequence, which should be avoided as value-mapping will have precedence in case its length matches with 'x' & 'y'.  Please use a 2-D array with a single row if you really want to specify the same RGB or RGBA value for all points.\n",
      "'c' argument looks like a single numeric RGB or RGBA sequence, which should be avoided as value-mapping will have precedence in case its length matches with 'x' & 'y'.  Please use a 2-D array with a single row if you really want to specify the same RGB or RGBA value for all points.\n"
     ]
    }
   ],
   "source": [
    "scatter(xe, interpolate( hermite, f, xe ))\n",
    "scatter!(xe, interpolate( radial, f, xe ))\n",
    "plot!(xk, f)"
   ]
  },
  {
   "cell_type": "code",
   "execution_count": 29,
   "metadata": {},
   "outputs": [],
   "source": [
    "using IterTools"
   ]
  },
  {
   "cell_type": "code",
   "execution_count": 33,
   "metadata": {},
   "outputs": [
    {
     "ename": "LoadError",
     "evalue": "syntax: invalid iteration specification",
     "output_type": "error",
     "traceback": [
      "syntax: invalid iteration specification",
      ""
     ]
    }
   ],
   "source": [
    "for k, v in product([:Hermite, :Radial],[:Uniform, :Chebyshev])\n",
    "    println(k, v)\n",
    "end"
   ]
  },
  {
   "cell_type": "code",
   "execution_count": null,
   "metadata": {},
   "outputs": [],
   "source": []
  },
  {
   "cell_type": "code",
   "execution_count": 21,
   "metadata": {},
   "outputs": [
    {
     "data": {
      "text/plain": [
       "32-element Array{Float64,1}:\n",
       " 0.54030230586814  \n",
       " 0.6408970161773455\n",
       " 0.7258102410433283\n",
       " 0.7958633344738472\n",
       " 0.8522796739163705\n",
       " 0.8965416349514189\n",
       " 0.9302692145972262\n",
       " 0.9551209764487195\n",
       " 0.9727162883451472\n",
       " 0.9845767075724988\n",
       " 0.99208373838787  \n",
       " 0.9964499363706495\n",
       " 0.9987003653073915\n",
       " ⋮                 \n",
       " 0.9964499363706478\n",
       " 0.9920837383878681\n",
       " 0.984576707572498 \n",
       " 0.9727162883451476\n",
       " 0.95512097644872  \n",
       " 0.9302692145972272\n",
       " 0.896541634951419 \n",
       " 0.8522796739163696\n",
       " 0.7958633344738454\n",
       " 0.7258102410433296\n",
       " 0.6408970161773515\n",
       " 0.540302305868137 "
      ]
     },
     "execution_count": 21,
     "metadata": {},
     "output_type": "execute_result"
    }
   ],
   "source": []
  },
  {
   "cell_type": "code",
   "execution_count": null,
   "metadata": {},
   "outputs": [],
   "source": []
  }
 ],
 "metadata": {
  "kernelspec": {
   "display_name": "Julia 1.0.1",
   "language": "julia",
   "name": "julia-1.0"
  },
  "language_info": {
   "file_extension": ".jl",
   "mimetype": "application/julia",
   "name": "julia",
   "version": "1.0.1"
  }
 },
 "nbformat": 4,
 "nbformat_minor": 2
}
